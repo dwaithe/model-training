{
 "cells": [
  {
   "cell_type": "markdown",
   "metadata": {},
   "source": [
    "# Introduction to Image Analysis with Python.\n",
    "\n",
    "Please see the slides which accompany this notebook for a theorectical underpinning of what is being taught.\n",
    "Please approach each exercise in order. You may work with other members of the course if you like. This practical is not assessed. If you are stuck at any stage please ask a demonstrator.\n",
    "\n",
    "\n",
    "## Reading images\n",
    "\n",
    "Exercise: Explore how to open simple tiff images using the PIL library.\n"
   ]
  },
  {
   "cell_type": "code",
   "execution_count": null,
   "metadata": {
    "scrolled": true
   },
   "outputs": [],
   "source": [
    "#This line is very important: (It turns on inline the visuals!)\n",
    "%pylab inline\n",
    "#This library is one of the libraries one can use for importing tiff files.\n",
    "#For detailed info:http://effbot.org/imagingbook/image.htm\n",
    "from PIL import Image\n",
    "\n",
    "#We import our cell_fluorescent.tif image\n",
    "im = Image.open('images/cell_fluorescent.tif')\n",
    "#This line converts our image object into a numpy array (matrix) allowing easy processing of the data.\n",
    "im_array = np.array(im)\n",
    "#Notice the dimensions and data type.\n",
    "print('image dimensions',im_array.shape, ' im dtype:',im_array.dtype)\n",
    "\n",
    "#This is an inline visual. It displays the output image it after your code.\n",
    "figsize(4,4)\n",
    "imshow(im_array)\n",
    "#Notice the scale on the side of the image. What happens when you index a range.\n",
    "#imshow(im_array[50:100,:])\n",
    "#Or what happens when you index every fifth pixel:\n",
    "#imshow(im_array[::5,::5],interpolation='nearest')\n",
    "#Notice interpolation. What do you thing this is doing?\n"
   ]
  },
  {
   "cell_type": "code",
   "execution_count": null,
   "metadata": {
    "scrolled": true
   },
   "outputs": [],
   "source": [
    "#Repeat the above step but for the image cell_colony.tif.\n",
    "#Experiment with changing the look-up-table:\n",
    "#imshow(im_array, cmap=\"Reds\")\n",
    "#more colors at: http://matplotlib.org/examples/color/colormaps_reference.html"
   ]
  },
  {
   "cell_type": "markdown",
   "metadata": {},
   "source": [
    "## Applying a threshold to an image\n",
    "\n",
    "Exercise: Apply threshold to image array."
   ]
  },
  {
   "cell_type": "code",
   "execution_count": null,
   "metadata": {},
   "outputs": [],
   "source": [
    "thr = 100; #Here we define an arbitary threshold.\n",
    "\n",
    "print('image min: ',np.min(im_array),'image max: ',np.max(im_array), 'thr: ',thr)\n",
    "#Here we can very easily apply a threshold to the image.\n",
    "binary = im_array>thr\n",
    "\n",
    "figsize(12,12)\n",
    "subplot(1,2,1)\n",
    "imshow(im_array)\n",
    "subplot(1,2,2)\n",
    "imshow(binary)\n",
    "#Experiment with different threholds and show the results side-by-side."
   ]
  },
  {
   "cell_type": "markdown",
   "metadata": {},
   "source": [
    "## Reading a multi-page tiff with multiple z-slices\n",
    "\n",
    "Exercise: Explore the z-slices and how to visualise them."
   ]
  },
  {
   "cell_type": "code",
   "execution_count": null,
   "metadata": {
    "scrolled": true
   },
   "outputs": [],
   "source": [
    "#Make sure you have previously run %pylab inline at least once.\n",
    "#This library is another one of the libaries we can use to import tiff files\n",
    "#It also works with formats such as .lsm which are tiff's in disguise.\n",
    "from tifffile import imread as imreadtiff\n",
    "\n",
    "#We import our mri-stack.tif image file.\n",
    "im = imreadtiff('images/mri-stack.tif')\n",
    "#Notice the dimensions and data type.\n",
    "print('image dimensions',im.shape, ' im dtype:',im.dtype)\n",
    "\n",
    "#This line converts our image object into a numpy array and then accesses the fifteenth slice.\n",
    "im_slice = im[15,:,:]\n",
    "\n",
    "#This activates a subplot which can be used to display more than one image in a grid.\n",
    "figsize(6,6)\n",
    "subplot(1,2,1)\n",
    "imshow(im_slice)\n"
   ]
  },
  {
   "cell_type": "markdown",
   "metadata": {},
   "source": [
    "## Applying a threshold to a multi-page tiff.\n",
    "\n",
    "Exercise: Apply threshold to single slice of multi-page tiff."
   ]
  },
  {
   "cell_type": "code",
   "execution_count": null,
   "metadata": {
    "scrolled": true
   },
   "outputs": [],
   "source": [
    "#Make sure you have previously run %pylab inline at least once.\n",
    "#from tifffile import imread as imreadtiff\n",
    "im_stack = imreadtiff('images/mri-stack.tif')\n",
    "im_slice = im_stack[5,:,:]\n",
    "thr = 100; #Here we define an arbitary threshold.\n",
    "\n",
    "print('image min: ',np.min(im_slice),'image max: ',np.max(im_slice), 'thr: ',thr)\n",
    "#Here we can very easily apply a threshold to the image.\n",
    "binary = im_slice>thr\n",
    "#Now we show the binary mask.\n",
    "figsize(8,8)\n",
    "subplot(1,2,1)\n",
    "imshow(im_slice)\n",
    "subplot(1,2,2)\n",
    "imshow(binary)\n",
    "\n",
    "#What happens when you change the direction of the sign from '>' to '<'.\n",
    "#Hopefully the result makes sense.\n",
    "\n"
   ]
  },
  {
   "cell_type": "markdown",
   "metadata": {},
   "source": [
    "## Image Processing: Applying filters to an image."
   ]
  },
  {
   "cell_type": "markdown",
   "metadata": {},
   "source": [
    "### Gaussian filter\n",
    "\n",
    "Exercise: Import gaussian_filter from scipy ndimage and apply Gaussian blur to an image."
   ]
  },
  {
   "cell_type": "code",
   "execution_count": null,
   "metadata": {},
   "outputs": [],
   "source": [
    "#Make sure you have previously run %pylab inline at least once.\n",
    "#Make sure you have imported cell_fluorescent.tiff and created im_array.\n",
    "from scipy.ndimage import gaussian_filter\n",
    "\n",
    "\n",
    "\n",
    "#This applies a Gaussian smoothing kernel to the image with standard deviation=2.0\n",
    "im_smth = gaussian_filter(im_array.astype(np.float64), sigma=2.0)\n",
    "\n",
    "#Until this point we have been using a numpy array with a data type uint8. This means the\n",
    "#pixel intensity values are within the range of 0-255.\n",
    "#Now we convert the image to np.float64 as we want to have floating pixel outputs. This is \n",
    "#because operations like guassian filtering produce non-integer outputs and we don't want to\n",
    "#lose this information by storing the data as integers.\n",
    "\n",
    "#Notice the dimensions and data type.\n",
    "print('image dimensions',im_smth.shape, ' im dtype:',im_smth.dtype)\n",
    "\n",
    "figsize(12,12)\n",
    "subplot(1,2,1)\n",
    "imshow(im_array)\n",
    "subplot(1,2,2)\n",
    "imshow(im_smth)\n",
    "\n",
    "#Try applying a different sigma and visualising."
   ]
  },
  {
   "cell_type": "markdown",
   "metadata": {},
   "source": [
    "### Median filter\n",
    "Exercise: Import median_filter from scipy.ndimage and apply median filter to an image."
   ]
  },
  {
   "cell_type": "code",
   "execution_count": null,
   "metadata": {},
   "outputs": [],
   "source": [
    "#Make sure you have previously run %pylab inline at least once.\n",
    "#Make sure you have imported cell_fluorescent.tiff and created im_array.\n",
    "from scipy.ndimage import median_filter\n",
    "\n",
    "#This applies a median filter kernel to the image. For for details of this filter.\n",
    "#https://docs.scipy.org/doc/scipy-0.16.1/reference/generated/scipy.ndimage.filters.median_filter.html\n",
    "im_medin = median_filter(im_array.astype(np.float64),footprint=np.ones((3,3)))\n",
    "\n",
    "figsize(12,12)\n",
    "subplot(1,2,1)\n",
    "imshow(im_array)\n",
    "subplot(1,2,2)\n",
    "imshow(im_medin)\n",
    "\n",
    "#Try applying a different footprint and visualising."
   ]
  },
  {
   "cell_type": "markdown",
   "metadata": {},
   "source": [
    "### Mean filter\n",
    "Exercise: Import convolve from scipy.signal and apply mean filter to an image."
   ]
  },
  {
   "cell_type": "code",
   "execution_count": null,
   "metadata": {},
   "outputs": [],
   "source": [
    "#Make sure you have previously run %pylab inline at least once.\n",
    "#Make sure you have imported cell_fluorescent.tiff and created im_array.\n",
    "from scipy.signal import convolve2d\n",
    "sz_of_filt = 3\n",
    "\n",
    "#This is our mean filter kernel. \n",
    "kernel = np.ones(((sz_of_filt),sz_of_filt)).astype(np.float64)\n",
    "#We convolve the image with the kernel and then we divide the image by the size of our filter squared to normalise.\n",
    "#Refer to slide 8 of lecture notes for more details.\n",
    "#Please find the convolve filter documentation here:\n",
    "#https://docs.scipy.org/doc/scipy/reference/generated/scipy.signal.convolve2d.html\n",
    "im_mean = convolve2d(im_array.astype(np.float64),kernel , mode='same')/(sz_of_filt*sz_of_filt)\n",
    "print('Average pixel intensity of im_array (input)',np.average(im_array))\n",
    "print('Average pixel intensity of im_mean (output)',np.average(im_mean))\n",
    "print('You should notice the average intensities of the input and output are very similar.')\n",
    "figsize(12,12)\n",
    "subplot(1,2,1)\n",
    "imshow(im_array)\n",
    "subplot(1,2,2)\n",
    "imshow(im_mean)\n",
    "\n",
    "#Try applying a different size footprint and visualising.\n",
    "#What happens to the average intensity of the output when your remove the normalisation.\n",
    "#Can you see why we include the normalisation?"
   ]
  },
  {
   "cell_type": "markdown",
   "metadata": {},
   "source": [
    "### Edge filter\n",
    "Exercise: Import convolve from scipy.signal and apply sobel edge kernel to an image.\n"
   ]
  },
  {
   "cell_type": "code",
   "execution_count": null,
   "metadata": {},
   "outputs": [],
   "source": [
    "#Make sure you have previously run %pylab inline at least once.\n",
    "#Make sure you have imported cell_fluorescent.tiff and created im_array.\n",
    "from scipy.signal import convolve2d\n",
    "\n",
    "\n",
    "#This is our dx kernel and dy kernel for a sobel filter.\n",
    "#https://en.wikipedia.org/wiki/Edge_detection\n",
    "kerneldx = np.array([[1,0,-1],[2,0,-2],[1,0,-1]]).astype(np.float64)\n",
    "kerneldy = np.array([[1,2,1],[0,0,0],[-1,-2,-1]]).astype(np.float64)\n",
    "#We convolve the image with an edge filter. The sum of the filter is zero and so no need to normalise\n",
    "#Please find the convolve filter documentation here:\n",
    "#https://docs.scipy.org/doc/scipy/reference/generated/scipy.signal.convolve2d.html\n",
    "im_dy = convolve2d(im_array.astype(np.float64),kerneldy , mode='same')\n",
    "im_dx = convolve2d(im_array.astype(np.float64),kerneldx , mode='same')\n",
    "\n",
    "figsize(12,12)\n",
    "subplot(2,2,1)\n",
    "imshow(im_array)\n",
    "subplot(2,2,2)\n",
    "imshow(im_dy)\n",
    "subplot(2,2,3)\n",
    "imshow(im_dx)\n",
    "\n",
    "#Notice the mode arguement of the convolve2d command. This controls how the pixels located at the edge of the image\n",
    "#are handled. What happens to the size of the image if you change these values. You might want to look at what the\n",
    "#boundary command does as well."
   ]
  },
  {
   "cell_type": "markdown",
   "metadata": {},
   "source": [
    "### Edge filter comparison\n",
    "Exercise: Use the scipy ndimage filter and compare it to the custom one produced above.\n"
   ]
  },
  {
   "cell_type": "code",
   "execution_count": null,
   "metadata": {},
   "outputs": [],
   "source": [
    "#Make sure you have previously run the Edge Filter cell.\n",
    "from scipy.ndimage.filters import sobel\n",
    "\n",
    "figsize(12,12)\n",
    "subplot(2,2,1)\n",
    "imshow(im_array)\n",
    "subplot(2,2,2)\n",
    "im_sob_dx = sobel(im_array.astype(np.float64), axis=1, mode='constant', cval=0.0)\n",
    "imshow(im_sob_dx)\n",
    "subplot(2,2,3)\n",
    "im_sob_dy = sobel(im_array.astype(np.float64), axis=0, mode='constant', cval=0.0)\n",
    "imshow(im_sob_dy)\n",
    "\n",
    "#Using the settings above the images produced are identical to those produced by convolve2d.\n",
    "#How can you test they are identical?\n",
    "\n"
   ]
  },
  {
   "cell_type": "markdown",
   "metadata": {},
   "source": [
    "# Summary\n",
    "In this notebook you have learnt to:\n",
    "- Read a tiff image.\n",
    "- Change the look-up table of imshow.\n",
    "- Read a multi-page tiff image.\n",
    "- Apply a basic threshold to an image\n",
    "- Apply a number of filters manually and using the convolve2d command"
   ]
  }
 ],
 "metadata": {
  "kernelspec": {
   "display_name": "Python 3",
   "language": "python",
   "name": "python3"
  },
  "language_info": {
   "codemirror_mode": {
    "name": "ipython",
    "version": 3
   },
   "file_extension": ".py",
   "mimetype": "text/x-python",
   "name": "python",
   "nbconvert_exporter": "python",
   "pygments_lexer": "ipython3",
   "version": "3.5.3"
  }
 },
 "nbformat": 4,
 "nbformat_minor": 1
}
